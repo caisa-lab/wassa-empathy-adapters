{
 "cells": [
  {
   "cell_type": "markdown",
   "id": "1da3c678",
   "metadata": {},
   "source": [
    "# Empathy and Distress Inference with EmotionStack"
   ]
  },
  {
   "cell_type": "code",
   "execution_count": 1,
   "id": "917ac4da",
   "metadata": {},
   "outputs": [],
   "source": [
    "from transformers import AutoConfig, AutoModelWithHeads\n",
    "import torch\n",
    "from utils import utils\n",
    "from transformers import RobertaTokenizer\n",
    "import transformers.adapters.composition as ac"
   ]
  },
  {
   "cell_type": "code",
   "execution_count": 2,
   "id": "b200e9f9",
   "metadata": {},
   "outputs": [],
   "source": [
    "\"\"\" load data \"\"\"\n",
    "\n",
    "train_data, val_data, test_data = utils.load_wassa_dataset()"
   ]
  },
  {
   "cell_type": "code",
   "execution_count": 3,
   "id": "84657b45",
   "metadata": {},
   "outputs": [
    {
     "name": "stderr",
     "output_type": "stream",
     "text": [
      "/app/home/alahnala/miniconda3/envs/st/lib/python3.9/site-packages/transformers/adapters/models/roberta.py:250: FutureWarning: This class has been renamed to `RobertaAdapterModel` in v3. Please use the new class instead as this class might be removed in a future version.\n",
      "  warnings.warn(\n",
      "/app/home/alahnala/miniconda3/envs/st/lib/python3.9/site-packages/transformers/adapters/models/roberta.py:228: FutureWarning: This class has been renamed to `RobertaAdapterModel` in v3. Please use the new class instead as this class might be removed in a future version.\n",
      "  warnings.warn(\n",
      "Some weights of the model checkpoint at roberta-base were not used when initializing RobertaModelWithHeads: ['lm_head.bias', 'lm_head.dense.bias', 'lm_head.layer_norm.weight', 'lm_head.decoder.weight', 'lm_head.layer_norm.bias', 'lm_head.dense.weight']\n",
      "- This IS expected if you are initializing RobertaModelWithHeads from the checkpoint of a model trained on another task or with another architecture (e.g. initializing a BertForSequenceClassification model from a BertForPreTraining model).\n",
      "- This IS NOT expected if you are initializing RobertaModelWithHeads from the checkpoint of a model that you expect to be exactly identical (initializing a BertForSequenceClassification model from a BertForSequenceClassification model).\n",
      "Some weights of RobertaModelWithHeads were not initialized from the model checkpoint at roberta-base and are newly initialized: ['roberta.embeddings.position_ids']\n",
      "You should probably TRAIN this model on a down-stream task to be able to use it for predictions and inference.\n"
     ]
    }
   ],
   "source": [
    "tokenizer = RobertaTokenizer.from_pretrained(\"roberta-base\")\n",
    "\n",
    "config = AutoConfig.from_pretrained(\n",
    "    \"roberta-base\",\n",
    "    num_labels=1\n",
    ")\n",
    "\n",
    "model = AutoModelWithHeads.from_pretrained(\n",
    "    \"roberta-base\",\n",
    "    config=config,\n",
    ")"
   ]
  },
  {
   "cell_type": "code",
   "execution_count": 4,
   "id": "58cb4631",
   "metadata": {},
   "outputs": [],
   "source": [
    "\"\"\" load adapters \"\"\"\n",
    "empathy_adapter_path = \"./trained_adapters/EMP_emotion_stack\"\n",
    "distress_adapter_path = \"./trained_adapters/DIS_emotion_stack\"\n",
    "\n",
    "empathy_adapter = model.load_adapter(empathy_adapter_path, load_as=empathy_adapter_path.split('/')[-1])\n",
    "distress_adapter = model.load_adapter(distress_adapter_path, load_as=distress_adapter_path.split('/')[-1])"
   ]
  },
  {
   "cell_type": "code",
   "execution_count": 5,
   "id": "dd72d41b",
   "metadata": {},
   "outputs": [],
   "source": [
    "\"\"\" activate \"\"\"\n",
    "model.set_active_adapters(ac.Parallel(empathy_adapter, distress_adapter))"
   ]
  },
  {
   "cell_type": "code",
   "execution_count": 6,
   "id": "99207840",
   "metadata": {},
   "outputs": [],
   "source": [
    "def pred_empathy_distress(sentence):\n",
    "    tokens = tokenizer.tokenize(sentence)\n",
    "    input_ids = torch.tensor(tokenizer.convert_tokens_to_ids(tokens))\n",
    "    outputs = model(input_ids)\n",
    "\n",
    "    emp = outputs[0].logits[0][0].tolist()\n",
    "    dis = outputs[1].logits[0][0].tolist()\n",
    "    return emp, dis\n",
    "\n",
    "\n",
    "def predict_and_print(sentence):\n",
    "    empathy_score, distress_score = pred_empathy_distress(sentence)\n",
    "    \n",
    "    print(\"Essay: \")\n",
    "    print(sentence)\n",
    "    print(f\"Empathy: {empathy_score}\\tDistress: {distress_score}\")\n",
    "    \n",
    "    return empathy_score, distress_score"
   ]
  },
  {
   "cell_type": "code",
   "execution_count": 7,
   "id": "cc257672",
   "metadata": {},
   "outputs": [
    {
     "name": "stdout",
     "output_type": "stream",
     "text": [
      "Essay: \n",
      "Hello Friend, i am writing to you as regards an article i read and i will also like to let you how i felt about the article. I was really sad and gutted by what transpired in the article. It was about an inmate with the name Richardson. Richardson normally stay alone in his cell room, but on this day another inmate was brought to him to start living with Richardson in his cell room the nickname of the Cell room mate was The prophet which has previous record of assaulting about 20 other inmate. This also lead to the assault of Richardson which really mad me sad.\n",
      "Empathy: 5.9775896072387695\tDistress: 5.2304558753967285\n"
     ]
    }
   ],
   "source": [
    "essay = test_data['essay'].values[0]\n",
    "empathy_score, distress_score = predict_and_print(essay)"
   ]
  },
  {
   "cell_type": "code",
   "execution_count": 8,
   "id": "e58761b9",
   "metadata": {},
   "outputs": [
    {
     "name": "stdout",
     "output_type": "stream",
     "text": [
      "Essay: \n",
      "Hello friend i will like to tell you that India to ratify Paris climate deal in October — India, one of the world's largest greenhouse gas emitters, will ratify the Paris global climate agreement pact next month, Prime Minister Narendra Modi has said. CO2 emissions are believed to be the driving force behind climate change. The Paris deal is the world's first comprehensive climate agreement. It will only come into force legally after it is ratified by at least 55 countries, which between them produce 55% of global carbon emissions.\n",
      "Empathy: 4.39846658706665\tDistress: 5.468973159790039\n"
     ]
    }
   ],
   "source": [
    "essay = test_data['essay'].values[1]\n",
    "empathy_score, distress_score = predict_and_print(essay)"
   ]
  },
  {
   "cell_type": "code",
   "execution_count": 9,
   "id": "396f08e0",
   "metadata": {},
   "outputs": [
    {
     "name": "stdout",
     "output_type": "stream",
     "text": [
      "Essay: \n",
      "Hello friend I will like to let you know Leonard Cohen Died In His Sleep After A Fall, Manager Says — Songwriter and poet Leonard Cohen died in his sleep after a fall in his Los Angeles home in the middle of the night, his manager has said. “The death was sudden, unexpected, and peaceful,” his manager Robert Kory said in a statement published on the Cohencentric website. Cohen, music’s man of letters whose songs fused religious imagery with themes of redemption and sexual desire, died on Nov. 7, He was 82 when he died.\n",
      "Empathy: 6.117896556854248\tDistress: 4.573461055755615\n"
     ]
    }
   ],
   "source": [
    "essay = test_data['essay'].values[2]\n",
    "empathy_score, distress_score = predict_and_print(essay)"
   ]
  },
  {
   "cell_type": "code",
   "execution_count": 10,
   "id": "0d812a8f",
   "metadata": {},
   "outputs": [
    {
     "name": "stdout",
     "output_type": "stream",
     "text": [
      "Essay: \n",
      "Hello friend, I will like to tell you Qatar loses 3 troops serving with Saudi coalition in Yemen — The Gulf nation of Qatar says three of its soldiers have been killed while participating in Saudi-led military operations in Yemen. It was Qatar's biggest known loss of life in the conflict since its first reported ground deployment there last September. The Qatari military says the deaths occurred on Monday but did not provide any details. The military statement, carried by the official Qatar News Agency, identified the three killed soldiers as Mohammed Awad Salim, Mohammed Dawood Khayal and Mohammed Nasser Mohammed.\n",
      "Empathy: 5.69073486328125\tDistress: 5.085775852203369\n"
     ]
    }
   ],
   "source": [
    "essay = test_data['essay'].values[3]\n",
    "empathy_score, distress_score = predict_and_print(essay)"
   ]
  }
 ],
 "metadata": {
  "kernelspec": {
   "display_name": "Python 3 (ipykernel)",
   "language": "python",
   "name": "python3"
  },
  "language_info": {
   "codemirror_mode": {
    "name": "ipython",
    "version": 3
   },
   "file_extension": ".py",
   "mimetype": "text/x-python",
   "name": "python",
   "nbconvert_exporter": "python",
   "pygments_lexer": "ipython3",
   "version": "3.9.7"
  }
 },
 "nbformat": 4,
 "nbformat_minor": 5
}
